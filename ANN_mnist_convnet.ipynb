{
  "cells": [
    {
      "cell_type": "markdown",
      "metadata": {
        "id": "6MWaOhhNvk5o"
      },
      "source": [
        "## Setup"
      ]
    },
    {
      "cell_type": "code",
      "execution_count": null,
      "metadata": {
        "id": "CIVmyHSJvk5p"
      },
      "outputs": [],
      "source": [
        "import numpy as np\n",
        "from tensorflow import keras\n",
        "from tensorflow.keras import layers"
      ]
    },
    {
      "cell_type": "markdown",
      "metadata": {
        "id": "LYtCjAGBvk5p"
      },
      "source": [
        "## Prepare the data"
      ]
    },
    {
      "cell_type": "code",
      "execution_count": null,
      "metadata": {
        "id": "mn_Hzojtvk5q",
        "colab": {
          "base_uri": "https://localhost:8080/"
        },
        "outputId": "e38fa769-12f6-4a9d-a08c-bdbe69aa1d54"
      },
      "outputs": [
        {
          "output_type": "stream",
          "name": "stdout",
          "text": [
            "x_train shape: (60000, 28, 28, 1)\n",
            "60000 train samples\n",
            "10000 test samples\n"
          ]
        }
      ],
      "source": [
        "# Model / data parameters\n",
        "num_classes = 10\n",
        "input_shape = (28, 28, 1)\n",
        "\n",
        "# Load the data and split it between train and test sets\n",
        "(x_train, y_train), (x_test, y_test) = keras.datasets.mnist.load_data()\n",
        "\n",
        "# Scale images to the [0, 1] range\n",
        "x_train = x_train.astype(\"float32\") / 255\n",
        "x_test = x_test.astype(\"float32\") / 255\n",
        "# Make sure images have shape (28, 28, 1)\n",
        "x_train = np.expand_dims(x_train, -1)\n",
        "x_test = np.expand_dims(x_test, -1)\n",
        "print(\"x_train shape:\", x_train.shape)\n",
        "print(x_train.shape[0], \"train samples\")\n",
        "print(x_test.shape[0], \"test samples\")\n",
        "\n",
        "\n",
        "# convert class vectors to binary class matrices\n",
        "y_train = keras.utils.to_categorical(y_train, num_classes)\n",
        "y_test = keras.utils.to_categorical(y_test, num_classes)"
      ]
    },
    {
      "cell_type": "markdown",
      "metadata": {
        "id": "nxou5lPdvk5q"
      },
      "source": [
        "## Build the model"
      ]
    },
    {
      "cell_type": "code",
      "execution_count": null,
      "metadata": {
        "id": "035FMMXbvk5q",
        "colab": {
          "base_uri": "https://localhost:8080/"
        },
        "outputId": "6207caa6-c843-46d0-f0de-1ebbf0188d12"
      },
      "outputs": [
        {
          "output_type": "stream",
          "name": "stdout",
          "text": [
            "Model: \"sequential_2\"\n",
            "_________________________________________________________________\n",
            " Layer (type)                Output Shape              Param #   \n",
            "=================================================================\n",
            " conv2d_9 (Conv2D)           (None, 26, 26, 32)        320       \n",
            "                                                                 \n",
            " conv2d_10 (Conv2D)          (None, 24, 24, 32)        9248      \n",
            "                                                                 \n",
            " conv2d_11 (Conv2D)          (None, 12, 12, 32)        25632     \n",
            "                                                                 \n",
            " dropout_4 (Dropout)         (None, 12, 12, 32)        0         \n",
            "                                                                 \n",
            " conv2d_12 (Conv2D)          (None, 10, 10, 64)        18496     \n",
            "                                                                 \n",
            " conv2d_13 (Conv2D)          (None, 8, 8, 64)          36928     \n",
            "                                                                 \n",
            " conv2d_14 (Conv2D)          (None, 4, 4, 64)          102464    \n",
            "                                                                 \n",
            " dropout_5 (Dropout)         (None, 4, 4, 64)          0         \n",
            "                                                                 \n",
            " conv2d_15 (Conv2D)          (None, 1, 1, 128)         131200    \n",
            "                                                                 \n",
            " flatten_2 (Flatten)         (None, 128)               0         \n",
            "                                                                 \n",
            " dropout_6 (Dropout)         (None, 128)               0         \n",
            "                                                                 \n",
            " dense_2 (Dense)             (None, 10)                1290      \n",
            "                                                                 \n",
            "=================================================================\n",
            "Total params: 325,578\n",
            "Trainable params: 325,578\n",
            "Non-trainable params: 0\n",
            "_________________________________________________________________\n"
          ]
        }
      ],
      "source": [
        "model = keras.Sequential(\n",
        "    [\n",
        "        keras.Input(shape=input_shape),\n",
        "        layers.Conv2D(32, kernel_size=(3, 3), activation=\"relu\"),\n",
        "        layers.Conv2D(32, kernel_size = 3, activation='relu'),\n",
        "        layers.Conv2D(32, kernel_size = 5, strides=2, padding='same', activation='relu'),\n",
        "        layers.Dropout(0.4),\n",
        "        layers.Conv2D(64, kernel_size = 3, activation='relu'),\n",
        "        layers.Conv2D(64, kernel_size = 3, activation='relu'),\n",
        "        layers.Conv2D(64, kernel_size = 5, strides=2, padding='same', activation='relu'),\n",
        "        layers.Dropout(0.4),\n",
        "        layers.Conv2D(128, kernel_size = 4, activation='relu'),\n",
        "        layers.Flatten(),\n",
        "        layers.Dropout(0.4),\n",
        "        layers.Dense(num_classes, activation='softmax'),\n",
        "    ]\n",
        ")\n",
        "\n",
        "model.summary()"
      ]
    },
    {
      "cell_type": "markdown",
      "metadata": {
        "id": "eODJWAhLvk5r"
      },
      "source": [
        "## Train the model"
      ]
    },
    {
      "cell_type": "code",
      "execution_count": null,
      "metadata": {
        "id": "RdFspF7Zvk5r",
        "colab": {
          "base_uri": "https://localhost:8080/"
        },
        "outputId": "f183cca1-4362-466c-f940-b1f587126999"
      },
      "outputs": [
        {
          "output_type": "stream",
          "name": "stdout",
          "text": [
            "Epoch 1/30\n",
            "422/422 [==============================] - 196s 463ms/step - loss: 0.3138 - accuracy: 0.9011 - val_loss: 0.0486 - val_accuracy: 0.9868\n",
            "Epoch 2/30\n",
            "422/422 [==============================] - 194s 459ms/step - loss: 0.0864 - accuracy: 0.9746 - val_loss: 0.0387 - val_accuracy: 0.9897\n",
            "Epoch 3/30\n",
            "422/422 [==============================] - 194s 461ms/step - loss: 0.0664 - accuracy: 0.9809 - val_loss: 0.0305 - val_accuracy: 0.9908\n",
            "Epoch 4/30\n",
            "422/422 [==============================] - 193s 458ms/step - loss: 0.0512 - accuracy: 0.9847 - val_loss: 0.0265 - val_accuracy: 0.9915\n",
            "Epoch 5/30\n",
            "422/422 [==============================] - 193s 458ms/step - loss: 0.0441 - accuracy: 0.9869 - val_loss: 0.0236 - val_accuracy: 0.9935\n",
            "Epoch 6/30\n",
            "422/422 [==============================] - 193s 457ms/step - loss: 0.0392 - accuracy: 0.9880 - val_loss: 0.0263 - val_accuracy: 0.9933\n",
            "Epoch 7/30\n",
            "422/422 [==============================] - 194s 459ms/step - loss: 0.0343 - accuracy: 0.9901 - val_loss: 0.0244 - val_accuracy: 0.9933\n",
            "Epoch 8/30\n",
            "422/422 [==============================] - 194s 461ms/step - loss: 0.0315 - accuracy: 0.9904 - val_loss: 0.0258 - val_accuracy: 0.9935\n",
            "Epoch 9/30\n",
            "422/422 [==============================] - 192s 455ms/step - loss: 0.0284 - accuracy: 0.9911 - val_loss: 0.0261 - val_accuracy: 0.9938\n",
            "Epoch 10/30\n",
            "422/422 [==============================] - 193s 456ms/step - loss: 0.0280 - accuracy: 0.9919 - val_loss: 0.0250 - val_accuracy: 0.9940\n",
            "Epoch 11/30\n",
            "422/422 [==============================] - 192s 455ms/step - loss: 0.0227 - accuracy: 0.9928 - val_loss: 0.0263 - val_accuracy: 0.9942\n",
            "Epoch 12/30\n",
            "422/422 [==============================] - 193s 458ms/step - loss: 0.0234 - accuracy: 0.9924 - val_loss: 0.0234 - val_accuracy: 0.9943\n",
            "Epoch 13/30\n",
            "422/422 [==============================] - 192s 455ms/step - loss: 0.0221 - accuracy: 0.9932 - val_loss: 0.0237 - val_accuracy: 0.9942\n",
            "Epoch 14/30\n",
            "422/422 [==============================] - 193s 457ms/step - loss: 0.0211 - accuracy: 0.9934 - val_loss: 0.0307 - val_accuracy: 0.9912\n",
            "Epoch 15/30\n",
            "422/422 [==============================] - 192s 454ms/step - loss: 0.0185 - accuracy: 0.9939 - val_loss: 0.0243 - val_accuracy: 0.9940\n",
            "Epoch 16/30\n",
            "422/422 [==============================] - 191s 453ms/step - loss: 0.0193 - accuracy: 0.9939 - val_loss: 0.0262 - val_accuracy: 0.9933\n",
            "Epoch 17/30\n",
            "422/422 [==============================] - 191s 452ms/step - loss: 0.0187 - accuracy: 0.9938 - val_loss: 0.0237 - val_accuracy: 0.9937\n",
            "Epoch 18/30\n",
            "422/422 [==============================] - 190s 450ms/step - loss: 0.0171 - accuracy: 0.9942 - val_loss: 0.0272 - val_accuracy: 0.9933\n",
            "Epoch 19/30\n",
            "422/422 [==============================] - 191s 452ms/step - loss: 0.0158 - accuracy: 0.9949 - val_loss: 0.0281 - val_accuracy: 0.9942\n",
            "Epoch 20/30\n",
            "422/422 [==============================] - 191s 453ms/step - loss: 0.0155 - accuracy: 0.9953 - val_loss: 0.0263 - val_accuracy: 0.9935\n",
            "Epoch 21/30\n",
            "422/422 [==============================] - 190s 451ms/step - loss: 0.0158 - accuracy: 0.9947 - val_loss: 0.0288 - val_accuracy: 0.9937\n",
            "Epoch 22/30\n",
            "422/422 [==============================] - 190s 450ms/step - loss: 0.0148 - accuracy: 0.9953 - val_loss: 0.0267 - val_accuracy: 0.9942\n",
            "Epoch 23/30\n",
            "422/422 [==============================] - 190s 449ms/step - loss: 0.0148 - accuracy: 0.9951 - val_loss: 0.0276 - val_accuracy: 0.9935\n",
            "Epoch 24/30\n",
            "422/422 [==============================] - 190s 449ms/step - loss: 0.0122 - accuracy: 0.9960 - val_loss: 0.0315 - val_accuracy: 0.9940\n",
            "Epoch 25/30\n",
            "422/422 [==============================] - 190s 450ms/step - loss: 0.0138 - accuracy: 0.9960 - val_loss: 0.0257 - val_accuracy: 0.9945\n",
            "Epoch 26/30\n",
            "422/422 [==============================] - 188s 446ms/step - loss: 0.0136 - accuracy: 0.9953 - val_loss: 0.0258 - val_accuracy: 0.9938\n",
            "Epoch 27/30\n",
            "422/422 [==============================] - 188s 445ms/step - loss: 0.0119 - accuracy: 0.9964 - val_loss: 0.0358 - val_accuracy: 0.9937\n",
            "Epoch 28/30\n",
            "422/422 [==============================] - 188s 445ms/step - loss: 0.0120 - accuracy: 0.9963 - val_loss: 0.0292 - val_accuracy: 0.9950\n",
            "Epoch 29/30\n",
            "422/422 [==============================] - 187s 443ms/step - loss: 0.0115 - accuracy: 0.9963 - val_loss: 0.0320 - val_accuracy: 0.9943\n",
            "Epoch 30/30\n",
            "422/422 [==============================] - 188s 444ms/step - loss: 0.0116 - accuracy: 0.9963 - val_loss: 0.0340 - val_accuracy: 0.9943\n"
          ]
        },
        {
          "output_type": "execute_result",
          "data": {
            "text/plain": [
              "<keras.callbacks.History at 0x7f1472a09750>"
            ]
          },
          "metadata": {},
          "execution_count": 9
        }
      ],
      "source": [
        "batch_size = 128\n",
        "epochs = 30\n",
        "\n",
        "model.compile(loss=\"categorical_crossentropy\", optimizer=\"adam\", metrics=[\"accuracy\"])\n",
        "\n",
        "model.fit(x_train, y_train, batch_size=batch_size, epochs=epochs, validation_split=0.1)"
      ]
    },
    {
      "cell_type": "markdown",
      "metadata": {
        "id": "NYwd0Y4avk5r"
      },
      "source": [
        "## Evaluate the trained model"
      ]
    },
    {
      "cell_type": "code",
      "execution_count": null,
      "metadata": {
        "id": "CUEQoXIIvk5s",
        "colab": {
          "base_uri": "https://localhost:8080/"
        },
        "outputId": "149714bd-fe56-49cc-d88f-fd38b2536cb4"
      },
      "outputs": [
        {
          "output_type": "stream",
          "name": "stdout",
          "text": [
            "Test loss: 0.022399434819817543\n",
            "Test accuracy: 0.9952999949455261\n"
          ]
        }
      ],
      "source": [
        "score = model.evaluate(x_test, y_test, verbose=0)\n",
        "print(\"Test loss:\", score[0])\n",
        "print(\"Test accuracy:\", score[1])"
      ]
    },
    {
      "cell_type": "code",
      "source": [
        "model.save('')"
      ],
      "metadata": {
        "id": "0T0JnepYFFNX"
      },
      "execution_count": null,
      "outputs": []
    },
    {
      "cell_type": "code",
      "source": [
        "model = keras.models.load_model('./')\n",
        "model.summary()\n"
      ],
      "metadata": {
        "id": "CFa2HXaKFN9O",
        "colab": {
          "base_uri": "https://localhost:8080/"
        },
        "outputId": "253a6dbc-9652-4dd0-c8dd-a81a619276b4"
      },
      "execution_count": null,
      "outputs": [
        {
          "output_type": "stream",
          "name": "stdout",
          "text": [
            "Model: \"sequential_2\"\n",
            "_________________________________________________________________\n",
            " Layer (type)                Output Shape              Param #   \n",
            "=================================================================\n",
            " conv2d_9 (Conv2D)           (None, 26, 26, 32)        320       \n",
            "                                                                 \n",
            " conv2d_10 (Conv2D)          (None, 24, 24, 32)        9248      \n",
            "                                                                 \n",
            " conv2d_11 (Conv2D)          (None, 12, 12, 32)        25632     \n",
            "                                                                 \n",
            " dropout_4 (Dropout)         (None, 12, 12, 32)        0         \n",
            "                                                                 \n",
            " conv2d_12 (Conv2D)          (None, 10, 10, 64)        18496     \n",
            "                                                                 \n",
            " conv2d_13 (Conv2D)          (None, 8, 8, 64)          36928     \n",
            "                                                                 \n",
            " conv2d_14 (Conv2D)          (None, 4, 4, 64)          102464    \n",
            "                                                                 \n",
            " dropout_5 (Dropout)         (None, 4, 4, 64)          0         \n",
            "                                                                 \n",
            " conv2d_15 (Conv2D)          (None, 1, 1, 128)         131200    \n",
            "                                                                 \n",
            " flatten_2 (Flatten)         (None, 128)               0         \n",
            "                                                                 \n",
            " dropout_6 (Dropout)         (None, 128)               0         \n",
            "                                                                 \n",
            " dense_2 (Dense)             (None, 10)                1290      \n",
            "                                                                 \n",
            "=================================================================\n",
            "Total params: 325,578\n",
            "Trainable params: 325,578\n",
            "Non-trainable params: 0\n",
            "_________________________________________________________________\n"
          ]
        }
      ]
    },
    {
      "cell_type": "code",
      "source": [
        "hwData = np.fromfile(\"xTest2.bin\",  dtype=np.uint8)\n",
        "hwData = np.reshape(hwData,(10000,28, 28, 1))\n",
        "index = 0;\n",
        "for i in hwData:\n",
        "  hwData[index] = np.rot90(np.fliplr(i))\n",
        "  index += 1\n",
        "np.shape(hwData)"
      ],
      "metadata": {
        "id": "WZoiI7Loyjf5",
        "colab": {
          "base_uri": "https://localhost:8080/"
        },
        "outputId": "803568c9-ce16-4b62-d372-9951d9622e7b"
      },
      "execution_count": null,
      "outputs": [
        {
          "output_type": "execute_result",
          "data": {
            "text/plain": [
              "(10000, 28, 28, 1)"
            ]
          },
          "metadata": {},
          "execution_count": 13
        }
      ]
    },
    {
      "cell_type": "code",
      "source": [
        "hwOutput = model.predict_on_batch(hwData)\n",
        "result = np.argmax(hwOutput ,axis=1)\n",
        "print(result)"
      ],
      "metadata": {
        "id": "wtj3lwpiy9Am",
        "colab": {
          "base_uri": "https://localhost:8080/"
        },
        "outputId": "befef20b-73b2-433e-de3f-ebe434c52bf2"
      },
      "execution_count": null,
      "outputs": [
        {
          "output_type": "stream",
          "name": "stdout",
          "text": [
            "[4 9 1 ... 8 5 0]\n"
          ]
        }
      ]
    },
    {
      "cell_type": "code",
      "source": [
        "np.savetxt(\"classifications.csv\",result,fmt='%i',delimiter=\",\")"
      ],
      "metadata": {
        "id": "LBsZS2m-5ANQ"
      },
      "execution_count": null,
      "outputs": []
    },
    {
      "cell_type": "code",
      "source": [],
      "metadata": {
        "id": "b2VrOr_73ZFv"
      },
      "execution_count": null,
      "outputs": []
    },
    {
      "cell_type": "code",
      "source": [
        "hwDataBin = np.fromfile(\"xTest2.bin\",  dtype=np.uint8)\n",
        "hw_train_1 = np.reshape(hwDataBin,(10000,28,28))\n",
        "index = 0;\n",
        "for i in hw_train_1:\n",
        "  hw_train_1[index] = np.rot90(np.fliplr(i))\n",
        "  index += 1\n",
        "\n",
        "np.shape(hw_train_1)"
      ],
      "metadata": {
        "id": "NpHoo4uh4ekS",
        "colab": {
          "base_uri": "https://localhost:8080/"
        },
        "outputId": "382771c6-076a-4358-de7c-6c43fc2e9d3f"
      },
      "execution_count": null,
      "outputs": [
        {
          "output_type": "execute_result",
          "data": {
            "text/plain": [
              "(10000, 28, 28)"
            ]
          },
          "metadata": {},
          "execution_count": 16
        }
      ]
    },
    {
      "cell_type": "code",
      "source": [
        "import matplotlib\n",
        "matplotlib.use('agg')\n",
        "import matplotlib.pyplot as plt\n",
        "fig = plt.figure()\n",
        "startingIndex = 1033\n",
        "\n",
        "for i in range(9):\n",
        "  plt.subplot(3,3,i+1)\n",
        "  plt.tight_layout()\n",
        "  plt.imshow(hw_train_1[startingIndex+i], cmap='gray', interpolation='none')\n",
        "  plt.title(\"Digit: {}\".format(result[startingIndex+i]))\n",
        "  plt.xticks([])\n",
        "  plt.yticks([])\n",
        "fig"
      ],
      "metadata": {
        "id": "aey6FkTl4Zgp",
        "colab": {
          "base_uri": "https://localhost:8080/",
          "height": 284
        },
        "outputId": "554c37fc-675d-4293-e9fd-d30807c5bf5a"
      },
      "execution_count": null,
      "outputs": [
        {
          "output_type": "execute_result",
          "data": {
            "text/plain": [
              "<Figure size 432x288 with 9 Axes>"
            ],
            "image/png": "[encoded data removed]"
          },
          "metadata": {},
          "execution_count": 17
        }
      ]
    },
    {
      "cell_type": "code",
      "source": [],
      "metadata": {
        "id": "FErbb_dlW30g"
      },
      "execution_count": null,
      "outputs": []
    }
  ],
  "metadata": {
    "colab": {
      "provenance": []
    },
    "kernelspec": {
      "display_name": "Python 3",
      "language": "python",
      "name": "python3"
    },
    "language_info": {
      "codemirror_mode": {
        "name": "ipython",
        "version": 3
      },
      "file_extension": ".py",
      "mimetype": "text/x-python",
      "name": "python",
      "nbconvert_exporter": "python",
      "pygments_lexer": "ipython3",
      "version": "3.7.0"
    }
  },
  "nbformat": 4,
  "nbformat_minor": 0
}